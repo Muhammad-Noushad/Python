{
 "cells": [
  {
   "cell_type": "code",
   "execution_count": null,
   "metadata": {},
   "outputs": [],
   "source": [
    "#Q1 Define Object Oriented Programming Language?\n",
    "OOP is a kind of computer programming in which programmer outlines the type of a data along with the kinds of\n",
    "operations that can be used to design a data structure. OOP is a type of software design that provides structure \n",
    "to certain data."
   ]
  },
  {
   "cell_type": "code",
   "execution_count": null,
   "metadata": {},
   "outputs": [],
   "source": [
    "#Q2 List down the Benefits of OOP?\n",
    "\n",
    "i.  It promotes the function of reusability.  A computer program is written while using different objects and \n",
    "    classes, which can be used again in other project tasks also.\n",
    "\n",
    "ii. The modular system used in OOP brings in highly-maintained code. \n",
    "\n",
    "iii.In OOP, every class has a particular task. If an error takes place in one section of the code, user can\n",
    "    redress it locally without impacting other parts of the code.\n",
    "    \n",
    "iV. Data encapsulation brings an additional layer to the program developed while utilizing the object-focused approach. "
   ]
  },
  {
   "cell_type": "code",
   "execution_count": null,
   "metadata": {},
   "outputs": [],
   "source": [
    "#Q3 Differentiate between function and method?\n",
    "\n",
    "A method in python is somehow same to a function, apart from the feature that it is related with classes. Methods in\n",
    "python are quite relatable with functions with the exception of two things. It is completely used for an object for \n",
    "which it is known as the method. It is easily available to data unlike function. "
   ]
  },
  {
   "cell_type": "code",
   "execution_count": null,
   "metadata": {},
   "outputs": [],
   "source": [
    "#Q4 Define the following terms:  1. Class  2. Object  3. Attribute  4. Behavior\n",
    "\n",
    "i.  Class: It is a code based design that enables users to create objects. These objects have member variables and \n",
    "    have behavior related with them. In Python, a class is developed by the keyword class. An object is developed\n",
    "    while using the class developer. This object would then be referred as the instance of class. \n",
    "    \n",
    "ii. Object: Python is basically an OOP and different from process-oriented program, where the key focus is on \n",
    "    functionality, OOP focuses majorly on objects. Object is just a set of data or variables and methods (functions)\n",
    "    that perform on those data. In addition, class is a template for the object.  \n",
    "    \n",
    "iii. Attribute: It is defined as data maintained within a class and signify the class quality or feature. In a nutshell,\n",
    "     attributes maintain data regarding the instance. \n",
    "        \n",
    "iv. Behaviour: A class behavior decides how an instance of that class functions. For example, how it would 'respond' if \n",
    "    asked to perform something by a new class or object or if its inner states alters. It is the only means objects can \n",
    "    perform anything to themselves or have anything carried out to them.  "
   ]
  },
  {
   "cell_type": "code",
   "execution_count": 9,
   "metadata": {},
   "outputs": [
    {
     "name": "stdout",
     "output_type": "stream",
     "text": [
      "Corolla Toyota 2019 White AT\n",
      "Civic is turbo powered\n",
      "Ciaz is cruising\n"
     ]
    }
   ],
   "source": [
    "# Q5 Write a code in python in which create a class named it Car which have 5 attributes such like (model, color and name etc.) and 3 methods. And create 5 object instance from that class.\n",
    "\n",
    "class Car:\n",
    "    def __init__(self, name, brand, model, color, transmission):\n",
    "        self.name = name\n",
    "        self.brand = brand\n",
    "        self.model = model\n",
    "        self.color = color\n",
    "        self.transmission = transmission\n",
    "    def printCar(self):\n",
    "        print(self.name, self.brand, self.model, self.color, self.transmission)\n",
    "    def cruise(self):\n",
    "        print(self.name,\"is cruising\")\n",
    "    def turbo(self):\n",
    "        print(self.name,\"is turbo powered\")\n",
    "        \n",
    "cari = Car(\"Corolla\", \"Toyota\", \"2019\", \"White\", \"AT\")\n",
    "carii = Car(\"Civic\", \"Honda\", \"2018\", \"Black\", \"AT\")\n",
    "cariii = Car(\"Ciaz\", \"Suzuki\", \"2017\", \"Phantom Brown\", \"AT\")\n",
    "cariv = Car(\"City\", \"Honda\", \"2016\", \"Silver\", \"MT\")\n",
    "carv = Car(\"Swift\", \"Suzuki\", \"2015\", \"Gray\", \"MT\")\n",
    "cari.printCar()\n",
    "carii.turbo()\n",
    "cariii.cruise()\n"
   ]
  },
  {
   "cell_type": "code",
   "execution_count": null,
   "metadata": {},
   "outputs": [],
   "source": []
  },
  {
   "cell_type": "code",
   "execution_count": null,
   "metadata": {},
   "outputs": [],
   "source": []
  },
  {
   "cell_type": "code",
   "execution_count": null,
   "metadata": {},
   "outputs": [],
   "source": []
  },
  {
   "cell_type": "code",
   "execution_count": null,
   "metadata": {},
   "outputs": [],
   "source": []
  },
  {
   "cell_type": "code",
   "execution_count": null,
   "metadata": {},
   "outputs": [],
   "source": []
  },
  {
   "cell_type": "code",
   "execution_count": null,
   "metadata": {},
   "outputs": [],
   "source": []
  },
  {
   "cell_type": "code",
   "execution_count": null,
   "metadata": {},
   "outputs": [],
   "source": []
  },
  {
   "cell_type": "code",
   "execution_count": null,
   "metadata": {},
   "outputs": [],
   "source": []
  },
  {
   "cell_type": "code",
   "execution_count": null,
   "metadata": {},
   "outputs": [],
   "source": []
  }
 ],
 "metadata": {
  "kernelspec": {
   "display_name": "Python 3",
   "language": "python",
   "name": "python3"
  },
  "language_info": {
   "codemirror_mode": {
    "name": "ipython",
    "version": 3
   },
   "file_extension": ".py",
   "mimetype": "text/x-python",
   "name": "python",
   "nbconvert_exporter": "python",
   "pygments_lexer": "ipython3",
   "version": "3.7.4"
  }
 },
 "nbformat": 4,
 "nbformat_minor": 2
}
